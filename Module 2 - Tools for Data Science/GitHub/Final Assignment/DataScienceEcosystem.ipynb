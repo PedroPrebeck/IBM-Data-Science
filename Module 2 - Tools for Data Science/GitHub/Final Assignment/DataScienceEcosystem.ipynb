{
  "cells": [
    {
      "cell_type": "markdown",
      "metadata": {
        "id": "VmTSakAKd6UK"
      },
      "source": [
        "# Data Science tools and Ecosystem"
      ]
    },
    {
      "cell_type": "markdown",
      "metadata": {
        "id": "Y6c2_cNUd6UM"
      },
      "source": [
        "In this notebook, Data Science Tools and Ecosystem are summarized."
      ]
    },
    {
      "cell_type": "markdown",
      "metadata": {
        "id": "c7J9GOScd6UM"
      },
      "source": [
        "**Objetives:**\n",
        "\n",
        "- List popular languages for Data Science\n",
        "- List popular libraries for Data Science\n",
        "- List open source tools for Data Science\n",
        "- Evaluate arithmetic expressions in Python\n",
        "- Use markdown"
      ]
    },
    {
      "cell_type": "markdown",
      "metadata": {
        "id": "I0vm35Nyd6UM"
      },
      "source": [
        "Some of the popular languages that Data Scientists use are:\n",
        "\n",
        "1. Python\n",
        "2. R\n",
        "3. Julia"
      ]
    },
    {
      "cell_type": "markdown",
      "metadata": {
        "id": "R7ixJZPad6UM"
      },
      "source": [
        "Some of the commonly used libraries used by Data Scientists include:\n",
        "\n",
        "1. numpy\n",
        "2. pandas\n",
        "3. matplotlib"
      ]
    },
    {
      "cell_type": "markdown",
      "metadata": {
        "id": "Vc0_MQXud6UN"
      },
      "source": [
        "|Data Sciente Tools|\n",
        "|:---:|\n",
        "Jupyter Notebook\n",
        "RStudio\n",
        "Spider\n"
      ]
    },
    {
      "cell_type": "markdown",
      "metadata": {
        "id": "n3xBwPaId6UN"
      },
      "source": [
        "### Below are a few examples of evaluating arithmetic expressions in Python"
      ]
    },
    {
      "cell_type": "code",
      "execution_count": null,
      "metadata": {
        "id": "RzMdnATgd6UN",
        "outputId": "c4b38830-4129-4703-f778-1656ca11e638"
      },
      "outputs": [
        {
          "data": {
            "text/plain": [
              "17"
            ]
          },
          "execution_count": 2,
          "metadata": {},
          "output_type": "execute_result"
        }
      ],
      "source": [
        "# This a simple arithmetic expression to multiply then add integers\n",
        "(3*4)+5"
      ]
    },
    {
      "cell_type": "code",
      "execution_count": null,
      "metadata": {
        "id": "cd9-38Bwd6UO",
        "outputId": "09986efe-a713-4de6-cd36-1783fe7a6e55"
      },
      "outputs": [
        {
          "name": "stdout",
          "output_type": "stream",
          "text": [
            "3.3333333333333335\n"
          ]
        }
      ],
      "source": [
        "# This will convert 200 minutes to hours by dividing by 60\n",
        "\n",
        "def convert_to_hours(minutes):\n",
        "    hours = minutes / 60\n",
        "    return hours\n",
        "\n",
        "minutes = 200\n",
        "result = convert_to_hours(minutes)\n",
        "print(result)"
      ]
    }
  ],
  "metadata": {
    "kernelspec": {
      "display_name": "base",
      "language": "python",
      "name": "python3"
    },
    "language_info": {
      "codemirror_mode": {
        "name": "ipython",
        "version": 3
      },
      "file_extension": ".py",
      "mimetype": "text/x-python",
      "name": "python",
      "nbconvert_exporter": "python",
      "pygments_lexer": "ipython3",
      "version": "3.9.13"
    },
    "orig_nbformat": 4,
    "vscode": {
      "interpreter": {
        "hash": "e4cce46d6be9934fbd27f9ca0432556941ea5bdf741d4f4d64c6cd7f8dfa8fba"
      }
    },
    "colab": {
      "provenance": []
    }
  },
  "nbformat": 4,
  "nbformat_minor": 0
}